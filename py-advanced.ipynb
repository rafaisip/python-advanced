{
  "metadata": {
    "language_info": {
      "codemirror_mode": {
        "name": "python",
        "version": 3
      },
      "file_extension": ".py",
      "mimetype": "text/x-python",
      "name": "python",
      "nbconvert_exporter": "python",
      "pygments_lexer": "ipython3",
      "version": "3.8"
    },
    "kernelspec": {
      "name": "python",
      "display_name": "Python (Pyodide)",
      "language": "python"
    }
  },
  "nbformat_minor": 4,
  "nbformat": 4,
  "cells": [
    {
      "cell_type": "code",
      "source": "'''Module 4: Individual Programming Assignment 1\nParsing Data\nThis assignment covers your ability to manipulate data in Python.\n'''\n\ndef relationship_status(from_member, to_member, social_graph):\n    '''Relationship Status.\n    15 points.\n    Let us pretend that you are building a new app.\n    Your app supports social media functionality, which means that users can have\n    relationships with other users.\n    There are two guidelines for describing relationships on this social media app:\n    1. Any user can follow any other user.\n    2. If two users follow each other, they are considered friends.\n    This function describes the relationship that two users have with each other.\n    Please see \"assignment-4-sample-data.py\" for sample data. The social graph\n    will adhere to the same pattern.\n    Parameters\n    ----------\n    from_member: str\n        the subject member\n    to_member: str\n        the object member\n    social_graph: dict\n        the relationship data    \n    Returns\n    -------\n    str\n        \"follower\" if fromMember follows toMember,\n        \"followed by\" if fromMember is followed by toMember,\n        \"friends\" if fromMember and toMember follow each other,\n        \"no relationship\" if neither fromMember nor toMember follow each other.\n    '''\n    # Replace `pass` with your code. \n    # Stay within the function. Only use the parameters as input. The function should return your answer.\n    if to_member in social_graph.get(from_member, []):\n        if from_member in social_graph.get(to_member, []):\n            return \"friends\"\n        else:\n            return \"followed by\"\n    elif from_member in social_graph.get(to_member, []):\n        return \"follower\"\n    else:\n        return \"no relationship\"\n\n\ndef tic_tac_toe(board):\n    '''Tic Tac Toe. \n    15 points.\n    Tic Tac Toe is a common paper-and-pencil game. \n    Players must attempt to successfully draw a straight line of their symbol across a grid.\n    The player that does this first is considered the winner.\n    This function evaluates a tic tac toe board and returns the winner.\n    Please see \"assignment-4-sample-data.py\" for sample data. The board will adhere\n    to the same pattern. The board may by 3x3, 4x4, 5x5, or 6x6. The board will never\n    have more than one winner. The board will only ever have 2 unique symbols at the same time.\n    Parameters\n    ----------\n    board: list\n        the representation of the tic-tac-toe board as a square list of lists\n    Returns\n    -------\n    str\n        the symbol of the winner or \"NO WINNER\" if there is no winner\n    '''\n    size = len(board)\n    for row in board:\n        if len(set(row)) == 1 and row[0] != '.':\n            return row[0]\n    for col in range(size):\n        if len(set(row[col] for row in board)) == 1 and board[0][col] != '.':\n            return board[0][col]\n    main_diag = [board[i][i] for i in range(size)]\n    anti_diag = [board[i][size - 1 - i] for i in range(size)]\n\n    if len(set(main_diag)) == 1 and main_diag[0] != '.':\n        return main_diag[0]\n    if len(set(anti_diag)) == 1 and anti_diag[0] != '.':\n        return anti_diag[0]\n\n    return \"NO WINNER\"\n\ndef eta(first_stop, second_stop, route_map):\n    '''ETA. \n    20 points.\n    A shuttle van service is tasked to travel along a predefined circlar route.\n    This route is divided into several legs between stops.\n    The route is one-way only, and it is fully connected to itself.\n    This function returns how long it will take the shuttle to arrive at a stop\n    after leaving another stop.\n    Please see the sample data file in this same folder for sample data. The route map will\n    adhere to the same pattern. The route map may contain more legs and more stops,\n    but it will always be one-way and fully enclosed.\n    Parameters\n    ----------\n    first_stop: str\n        the stop that the shuttle will leave\n    second_stop: str\n        the stop that the shuttle will arrive at\n    route_map: dict\n        the data describing the routes\n    Returns\n    -------\n    int\n        the time it will take the shuttle to travel from first_stop to second_stop\n    '''\n    # Replace `pass` with your code. \n    # Stay within the function. Only use the parameters as input. The function should return your answer.\n    minutes = 0\n    arrival = False\n    while not arrival:\n        for stops in route_map:\n            if stops[0] == first_stop:\n                minutes += route_map[stops][\"travel_time_mins\"]\n                if stops[1] == second_stop:\n                    arrival = True\n                    break\n                else:\n                    first_stop = stops[1]\n    else:\n        return minutes",
      "metadata": {
        "trusted": true
      },
      "execution_count": 13,
      "outputs": []
    },
    {
      "cell_type": "code",
      "source": "",
      "metadata": {
        "trusted": true
      },
      "execution_count": null,
      "outputs": []
    },
    {
      "cell_type": "code",
      "source": "",
      "metadata": {},
      "execution_count": null,
      "outputs": []
    }
  ]
}